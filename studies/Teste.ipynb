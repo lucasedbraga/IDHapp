{
 "cells": [
  {
   "cell_type": "markdown",
   "metadata": {},
   "source": [
    "# Teste de Estudo sobre Índices do IBGE e Estatística"
   ]
  },
  {
   "cell_type": "code",
   "execution_count": 4,
   "metadata": {},
   "outputs": [],
   "source": [
    "import sys\n",
    "sys.path.append('../tools/')\n",
    "#############################\n",
    "from data import DataHandler"
   ]
  },
  {
   "cell_type": "code",
   "execution_count": 10,
   "metadata": {},
   "outputs": [
    {
     "name": "stdout",
     "output_type": "stream",
     "text": [
      "Leitura realizada, Status: 200\n"
     ]
    }
   ],
   "source": [
    "link = 'https://servicodados.ibge.gov.br/api/v1/projecoes/populacao'\n",
    "dh = DataHandler(link)"
   ]
  },
  {
   "cell_type": "code",
   "execution_count": 15,
   "metadata": {},
   "outputs": [
    {
     "data": {
      "text/plain": [
       "{'localidade': '0',\n",
       " 'horario': '27/03/2022 15:56:32',\n",
       " 'projecao': {'populacao': 214401933,\n",
       "  'periodoMedio': {'incrementoPopulacional': 20953,\n",
       "   'nascimento': 12000,\n",
       "   'obito': 45000}}}"
      ]
     },
     "execution_count": 15,
     "metadata": {},
     "output_type": "execute_result"
    }
   ],
   "source": [
    "dh.data"
   ]
  },
  {
   "cell_type": "code",
   "execution_count": 20,
   "metadata": {},
   "outputs": [],
   "source": [
    "data_grafico = dh.data['projecao']['periodoMedio']\n",
    "totalNascimento = data_grafico['nascimento']\n",
    "totalObito = data_grafico['obito']"
   ]
  },
  {
   "cell_type": "code",
   "execution_count": 23,
   "metadata": {},
   "outputs": [
    {
     "name": "stdout",
     "output_type": "stream",
     "text": [
      "Nascimento = 12000\n",
      "Óbito = 45000\n"
     ]
    }
   ],
   "source": [
    "print(f'Nascimento = {totalNascimento}')\n",
    "print(f'Óbito = {totalObito}')"
   ]
  }
 ],
 "metadata": {
  "kernelspec": {
   "display_name": "Python 3",
   "language": "python",
   "name": "python3"
  },
  "language_info": {
   "codemirror_mode": {
    "name": "ipython",
    "version": 3
   },
   "file_extension": ".py",
   "mimetype": "text/x-python",
   "name": "python",
   "nbconvert_exporter": "python",
   "pygments_lexer": "ipython3",
   "version": "3.8.10"
  }
 },
 "nbformat": 4,
 "nbformat_minor": 4
}
